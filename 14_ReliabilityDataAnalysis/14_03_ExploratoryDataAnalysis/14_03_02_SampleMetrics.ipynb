{
 "cells": [
  {
   "cell_type": "markdown",
   "metadata": {},
   "source": [
    "## Sample metrics"
   ]
  },
  {
   "cell_type": "code",
   "execution_count": 1,
   "metadata": {},
   "outputs": [],
   "source": [
    "# Data loading\n",
    "survtime<-read.table(\"14_03_dataset.txt\", header=FALSE, dec=\".\")"
   ]
  },
  {
   "cell_type": "code",
   "execution_count": 2,
   "metadata": {},
   "outputs": [
    {
     "data": {
      "text/plain": [
       "       V1        \n",
       " Min.   : 17.88  \n",
       " 1st Qu.: 46.30  \n",
       " Median : 61.68  \n",
       " Mean   : 68.08  \n",
       " 3rd Qu.: 90.87  \n",
       " Max.   :138.04  "
      ]
     },
     "metadata": {},
     "output_type": "display_data"
    }
   ],
   "source": [
    "# Data summary\n",
    "summary(survtime)"
   ]
  },
  {
   "cell_type": "markdown",
   "metadata": {},
   "source": [
    "Above the command `summary`is applied to the whole dataset (here composed by a single column). The function can also be applied to a specific column throug commands: `summary(survtime[, 'V1'])`, `summary(survtime[, 1])` or `summary(survtime$V1)`. In the cells below, basic sample metrics are calculated, some of the functions (e.g. `var`) may be applied on an whole dataset while other ones (e.g. `sd`) require an array of samples and, therefore, the specification of column. For simplicity, functions are here always applied on a specified column.   "
   ]
  },
  {
   "cell_type": "code",
   "execution_count": 3,
   "metadata": {},
   "outputs": [
    {
     "name": "stdout",
     "output_type": "stream",
     "text": [
      "Min.     :  17.88 \n",
      "1st Qu.  :  46.3 \n",
      "Median   :  61.68 \n",
      "Mean     :  68.07636 \n",
      "3rd Qu.  :  90.87 \n",
      "Max.     :  138.04 \n",
      "\n",
      "Var.     :  1024.949 \n",
      "S.Dev.*  :  32.01483 \n",
      "S.Dev.   :  32.01483 \n",
      "Inter Qu.:  44.57 \n"
     ]
    }
   ],
   "source": [
    "# Sample metrics calculation\n",
    "cat('Min.     : ', min((survtime[, 'V1'])), '\\n')\n",
    "cat('1st Qu.  : ', quantile(survtime[, 'V1'], 0.25), '\\n')\n",
    "cat('Median   : ', median(survtime[, 'V1']), '\\n')\n",
    "cat('Mean     : ', mean(survtime[, 'V1']), '\\n')\n",
    "cat('3rd Qu.  : ', quantile(survtime[, 'V1'], 0.75), '\\n')\n",
    "cat('Max.     : ', max(survtime[, 'V1'], 0.75), '\\n')\n",
    "cat('\\n')\n",
    "cat('Var.     : ', var(survtime[, 'V1']), '\\n')\n",
    "cat('S.Dev.*  : ', sqrt(var(survtime[, 'V1'])), '\\n')  # Standard deviation as the variance root square\n",
    "cat('S.Dev.   : ', sd(survtime[, 'V1']), '\\n')\n",
    "cat('Inter Qu.: ', \n",
    "    quantile(survtime[, 'V1'], 0.75, names = FALSE)\n",
    "    -quantile(survtime[, 'V1'], 0.25, names = FALSE), '\\n')"
   ]
  },
  {
   "cell_type": "markdown",
   "metadata": {},
   "source": [
    "Samples moments are available in the package **moments**, that is loaded with the command below:"
   ]
  },
  {
   "cell_type": "code",
   "execution_count": 4,
   "metadata": {},
   "outputs": [],
   "source": [
    "library(moments)"
   ]
  },
  {
   "cell_type": "markdown",
   "metadata": {},
   "source": [
    "Again commands below may be applied on a whole dataset or to a specified column. To be consistent with commands above, here these functions are explicitly applied on the single column of the loaded dataset.  "
   ]
  },
  {
   "cell_type": "code",
   "execution_count": 5,
   "metadata": {},
   "outputs": [
    {
     "name": "stdout",
     "output_type": "stream",
     "text": [
      "3rd Order Mom (noncentral):  534022.7 \n",
      "3rd Order Mom (central)   :  18720.53 \n",
      "skewness                  :  0.6117442 \n",
      "skewness*                 :  0.6117442 \n",
      "kurtosis                  :  2.555003 \n",
      "kurtosis*                 :  2.555003 \n"
     ]
    }
   ],
   "source": [
    "# Moments calculation\n",
    "k <-3 # Choose the order of the moment\n",
    "cat('3rd Order Mom (noncentral): ', moment(survtime[, 'V1'], order=k, central=FALSE), '\\n')\n",
    "cat('3rd Order Mom (central)   : ', moment(survtime[, 'V1'], order=k, central=TRUE), '\\n')\n",
    "cat('skewness                  : ', skewness(survtime[, 'V1']), '\\n')\n",
    "cat('skewness*                 : ', \n",
    "    moment(survtime[, 'V1'], order=3, central=TRUE)/(moment(survtime[, 'V1'], order=2, central=TRUE)^(3/2)), '\\n')\n",
    "cat('kurtosis                  : ', kurtosis(survtime[, 'V1']), '\\n')    \n",
    "cat('kurtosis*                 : ', \n",
    "    moment(survtime[, 'V1'], order=4, central=TRUE)/(moment(survtime[, 'V1'], order=2, central=TRUE)^2), '\\n')\n",
    "#cat('kurtosis**                : ', \n",
    "#    moment(survtime[, 'V1'], order=4, central=TRUE)/(moment(survtime[, 'V1'], order=3, central=TRUE)^2)-3, '\\n')"
   ]
  },
  {
   "cell_type": "markdown",
   "metadata": {},
   "source": [
    "# RESULTS AND FORMULAE ABOVE TO BE CHECKED!"
   ]
  }
 ],
 "metadata": {
  "kernelspec": {
   "display_name": "R",
   "language": "R",
   "name": "ir"
  },
  "language_info": {
   "codemirror_mode": "r",
   "file_extension": ".r",
   "mimetype": "text/x-r-source",
   "name": "R",
   "pygments_lexer": "r",
   "version": "3.6.1"
  }
 },
 "nbformat": 4,
 "nbformat_minor": 2
}
