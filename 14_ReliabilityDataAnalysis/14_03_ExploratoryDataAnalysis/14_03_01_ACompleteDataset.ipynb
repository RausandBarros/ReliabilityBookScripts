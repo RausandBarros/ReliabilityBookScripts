{
 "cells": [
  {
   "cell_type": "markdown",
   "metadata": {},
   "source": [
    "## A complete dataset\n",
    "\n",
    "A complete dataset of survival times (data loaded as a vector)"
   ]
  },
  {
   "cell_type": "code",
   "execution_count": 1,
   "metadata": {},
   "outputs": [
    {
     "data": {
      "text/html": [
       "<ol class=list-inline>\n",
       "\t<li>17.88</li>\n",
       "\t<li>28.92</li>\n",
       "\t<li>33</li>\n",
       "\t<li>41.52</li>\n",
       "\t<li>42.12</li>\n",
       "\t<li>45.6</li>\n",
       "\t<li>48.4</li>\n",
       "\t<li>68.88</li>\n",
       "\t<li>84.12</li>\n",
       "\t<li>93.12</li>\n",
       "\t<li>98.64</li>\n",
       "\t<li>105.12</li>\n",
       "\t<li>105.84</li>\n",
       "\t<li>51.84</li>\n",
       "\t<li>51.96</li>\n",
       "\t<li>54.12</li>\n",
       "\t<li>55.56</li>\n",
       "\t<li>67.8</li>\n",
       "\t<li>68.64</li>\n",
       "\t<li>68.64</li>\n",
       "\t<li>127.92</li>\n",
       "\t<li>138.04</li>\n",
       "</ol>\n"
      ],
      "text/latex": [
       "\\begin{enumerate*}\n",
       "\\item 17.88\n",
       "\\item 28.92\n",
       "\\item 33\n",
       "\\item 41.52\n",
       "\\item 42.12\n",
       "\\item 45.6\n",
       "\\item 48.4\n",
       "\\item 68.88\n",
       "\\item 84.12\n",
       "\\item 93.12\n",
       "\\item 98.64\n",
       "\\item 105.12\n",
       "\\item 105.84\n",
       "\\item 51.84\n",
       "\\item 51.96\n",
       "\\item 54.12\n",
       "\\item 55.56\n",
       "\\item 67.8\n",
       "\\item 68.64\n",
       "\\item 68.64\n",
       "\\item 127.92\n",
       "\\item 138.04\n",
       "\\end{enumerate*}\n"
      ],
      "text/markdown": [
       "1. 17.88\n",
       "2. 28.92\n",
       "3. 33\n",
       "4. 41.52\n",
       "5. 42.12\n",
       "6. 45.6\n",
       "7. 48.4\n",
       "8. 68.88\n",
       "9. 84.12\n",
       "10. 93.12\n",
       "11. 98.64\n",
       "12. 105.12\n",
       "13. 105.84\n",
       "14. 51.84\n",
       "15. 51.96\n",
       "16. 54.12\n",
       "17. 55.56\n",
       "18. 67.8\n",
       "19. 68.64\n",
       "20. 68.64\n",
       "21. 127.92\n",
       "22. 138.04\n",
       "\n",
       "\n"
      ],
      "text/plain": [
       " [1]  17.88  28.92  33.00  41.52  42.12  45.60  48.40  68.88  84.12  93.12\n",
       "[11]  98.64 105.12 105.84  51.84  51.96  54.12  55.56  67.80  68.64  68.64\n",
       "[21] 127.92 138.04"
      ]
     },
     "metadata": {},
     "output_type": "display_data"
    }
   ],
   "source": [
    "survtime <-c(17.88, 28.92, 33, 41.52, 42.12, 45.6, 48.4,\n",
    "             68.88, 84.12, 93.12, 98.64, 105.12, 105.84,\n",
    "             51.84, 51.96, 54.12, 55.56, 67.8, 68.64, 68.64,\n",
    "             127.92, 138.04)\n",
    "survtime"
   ]
  },
  {
   "cell_type": "code",
   "execution_count": 2,
   "metadata": {},
   "outputs": [
    {
     "name": "stdout",
     "output_type": "stream",
     "text": [
      "survtime:\n",
      " [1]  17.88  28.92  33.00  41.52  42.12  45.60  48.40  68.88  84.12  93.12\n",
      "[11]  98.64 105.12 105.84  51.84  51.96  54.12  55.56  67.80  68.64  68.64\n",
      "[21] 127.92 138.04\n",
      "\n",
      "sort(survtime):\n",
      " [1]  17.88  28.92  33.00  41.52  42.12  45.60  48.40  51.84  51.96  54.12\n",
      "[11]  55.56  67.80  68.64  68.64  68.88  84.12  93.12  98.64 105.12 105.84\n",
      "[21] 127.92 138.04\n"
     ]
    }
   ],
   "source": [
    "cat('survtime:\\n')\n",
    "print(survtime)\n",
    "cat('\\nsort(survtime):\\n')\n",
    "print(sort(survtime))"
   ]
  },
  {
   "cell_type": "markdown",
   "metadata": {},
   "source": [
    "Statistics on the samples stored in the vector `survtime` are obtained, for example, through the following commands: "
   ]
  },
  {
   "cell_type": "markdown",
   "metadata": {},
   "source": [
    "## Remark 14.1 An advise\n",
    "\n",
    "Data may be loaded from a txtfile through the command `read.table`. The output of this command is a dataset structured on columns. Columns labels are by default `Vi` where `i` is the column indice starting at 1. To apply a function on the first column `V1`, for example, the following command can be used:\n",
    "`survtime[, 1]`, `survtime[, 'V1']` or `survtime$V1`."
   ]
  },
  {
   "cell_type": "code",
   "execution_count": 3,
   "metadata": {},
   "outputs": [],
   "source": [
    "survtime<-read.table(\"14_03_dataset.txt\", header=FALSE, dec=\".\")\n",
    "# survtime # To simply display the dataset"
   ]
  },
  {
   "cell_type": "code",
   "execution_count": 4,
   "metadata": {},
   "outputs": [
    {
     "name": "stdout",
     "output_type": "stream",
     "text": [
      "survtime:\n",
      " [1]  17.88  28.92  33.00  41.52  42.12  45.60  48.40  68.88  84.12  93.12\n",
      "[11]  98.64 105.12 105.84  51.84  51.96  54.12  55.56  67.80  68.64  68.64\n",
      "[21] 127.92 138.04\n",
      "\n",
      "sort(survtime):\n",
      " [1]  17.88  28.92  33.00  41.52  42.12  45.60  48.40  51.84  51.96  54.12\n",
      "[11]  55.56  67.80  68.64  68.64  68.88  84.12  93.12  98.64 105.12 105.84\n",
      "[21] 127.92 138.04\n"
     ]
    }
   ],
   "source": [
    "cat('survtime:\\n')\n",
    "print(survtime[, 'V1'])\n",
    "cat('\\nsort(survtime):\\n')\n",
    "print(sort(survtime[, 'V1']))"
   ]
  }
 ],
 "metadata": {
  "kernelspec": {
   "display_name": "R",
   "language": "R",
   "name": "ir"
  },
  "language_info": {
   "codemirror_mode": "r",
   "file_extension": ".r",
   "mimetype": "text/x-r-source",
   "name": "R",
   "pygments_lexer": "r",
   "version": "3.6.1"
  }
 },
 "nbformat": 4,
 "nbformat_minor": 2
}
