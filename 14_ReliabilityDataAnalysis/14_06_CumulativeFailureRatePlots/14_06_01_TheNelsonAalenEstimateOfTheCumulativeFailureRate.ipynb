{
 "cells": [
  {
   "cell_type": "markdown",
   "metadata": {},
   "source": [
    "## The Nelson-Aalen Estimate of the Cumulative Failure Rate"
   ]
  },
  {
   "cell_type": "code",
   "execution_count": 1,
   "metadata": {},
   "outputs": [],
   "source": [
    "library(survival)"
   ]
  },
  {
   "cell_type": "code",
   "execution_count": 2,
   "metadata": {},
   "outputs": [],
   "source": [
    "# Data to be analyzed\n",
    "survtime<-c(31.7, 39.2, 57.5, 65.0, 65.8, 70.0, 75.0, 75.2, \n",
    "            87.5, 88.3, 94.2, 101.7, 105.8, 109.2, 110.0, 130.0)\n",
    "status<-c(1, 1, 1, 0, 1, 1, 0, 0, 0, 0, 0, 1, 0, 1, 0, 1)"
   ]
  },
  {
   "cell_type": "code",
   "execution_count": 3,
   "metadata": {},
   "outputs": [],
   "source": [
    "# Prepare hazard data\n",
    "revrank<-order(survtime, decreasing=TRUE)\n",
    "haz<-status/revrank\n",
    "cumhaz<-cumsum(haz)"
   ]
  },
  {
   "cell_type": "code",
   "execution_count": 4,
   "metadata": {},
   "outputs": [],
   "source": [
    "# Select only failures for plotting.\n",
    "df<-data.frame(survtime, status, cumhaz)\n",
    "z<-subset(df, status==1)"
   ]
  },
  {
   "cell_type": "code",
   "execution_count": 5,
   "metadata": {},
   "outputs": [
    {
     "data": {
      "image/png": "[encoded data removed]",
      "text/plain": [
       "plot without title"
      ]
     },
     "metadata": {},
     "output_type": "display_data"
    }
   ],
   "source": [
    "# Generate cumulative failure rate plot for exp. distr.\n",
    "plot(z$survtime, z$cumhaz, type=\"o\", pch=19, xlab=\"Time\", ylab=\"Cumulative failure rate\")"
   ]
  },
  {
   "cell_type": "code",
   "execution_count": 6,
   "metadata": {},
   "outputs": [
    {
     "name": "stdout",
     "output_type": "stream",
     "text": [
      "   survtime status    cumhaz\n",
      "1      31.7      1 0.0625000\n",
      "2      39.2      1 0.1291667\n",
      "3      57.5      1 0.2005952\n",
      "4      65.0      0 0.2005952\n",
      "5      65.8      1 0.2839286\n",
      "6      70.0      1 0.3748377\n",
      "7      75.0      0 0.3748377\n",
      "8      75.2      0 0.3748377\n",
      "9      87.5      0 0.3748377\n",
      "10     88.3      0 0.3748377\n",
      "11     94.2      0 0.3748377\n",
      "12    101.7      1 0.5748377\n",
      "13    105.8      0 0.5748377\n",
      "14    109.2      1 0.9081710\n",
      "15    110.0      0 0.9081710\n",
      "16    130.0      1 1.9081710\n"
     ]
    }
   ],
   "source": [
    "print(df)"
   ]
  },
  {
   "cell_type": "code",
   "execution_count": 7,
   "metadata": {},
   "outputs": [
    {
     "name": "stdout",
     "output_type": "stream",
     "text": [
      "   survtime status    cumhaz\n",
      "1      31.7      1 0.0625000\n",
      "2      39.2      1 0.1291667\n",
      "3      57.5      1 0.2005952\n",
      "5      65.8      1 0.2839286\n",
      "6      70.0      1 0.3748377\n",
      "12    101.7      1 0.5748377\n",
      "14    109.2      1 0.9081710\n",
      "16    130.0      1 1.9081710\n"
     ]
    }
   ],
   "source": [
    "print(z)"
   ]
  },
  {
   "cell_type": "code",
   "execution_count": null,
   "metadata": {},
   "outputs": [],
   "source": []
  }
 ],
 "metadata": {
  "kernelspec": {
   "display_name": "R",
   "language": "R",
   "name": "ir"
  },
  "language_info": {
   "codemirror_mode": "r",
   "file_extension": ".r",
   "mimetype": "text/x-r-source",
   "name": "R",
   "pygments_lexer": "r",
   "version": "3.6.1"
  }
 },
 "nbformat": 4,
 "nbformat_minor": 4
}
