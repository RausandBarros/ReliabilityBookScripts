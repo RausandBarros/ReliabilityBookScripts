{
 "cells": [
  {
   "cell_type": "markdown",
   "metadata": {},
   "source": [
    "## Method of Moments Estimation"
   ]
  },
  {
   "cell_type": "code",
   "execution_count": 2,
   "metadata": {},
   "outputs": [],
   "source": [
    "# Data loading\n",
    "survtime<-read.table(\"14_04_dataset.txt\", header=FALSE, dec=\".\")"
   ]
  },
  {
   "cell_type": "code",
   "execution_count": 3,
   "metadata": {},
   "outputs": [
    {
     "name": "stdout",
     "output_type": "stream",
     "text": [
      "alpha  :  4.736895 \n",
      "lambda :  0.06958208 \n"
     ]
    }
   ],
   "source": [
    "# Estimation of alpha and lambda (Gamma distribution)\n",
    "a<-mean(survtime[, 'V1'])\n",
    "b<-mean(survtime[, 'V1']^2)\n",
    "lambda<-a/(b-a^2)\n",
    "alpha<-lambda*a\n",
    "# Display\n",
    "cat('alpha  : ', alpha, '\\n')\n",
    "cat('lambda : ', lambda, '\\n')"
   ]
  },
  {
   "cell_type": "code",
   "execution_count": null,
   "metadata": {},
   "outputs": [],
   "source": []
  }
 ],
 "metadata": {
  "kernelspec": {
   "display_name": "R",
   "language": "R",
   "name": "ir"
  },
  "language_info": {
   "codemirror_mode": "r",
   "file_extension": ".r",
   "mimetype": "text/x-r-source",
   "name": "R",
   "pygments_lexer": "r",
   "version": "3.6.1"
  }
 },
 "nbformat": 4,
 "nbformat_minor": 2
}
