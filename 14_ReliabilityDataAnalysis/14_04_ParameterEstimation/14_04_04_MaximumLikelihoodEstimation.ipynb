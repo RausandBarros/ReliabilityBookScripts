{
 "cells": [
  {
   "cell_type": "markdown",
   "metadata": {},
   "source": [
    "## Maximum Likelihood Estimation"
   ]
  },
  {
   "cell_type": "code",
   "execution_count": 1,
   "metadata": {},
   "outputs": [],
   "source": [
    "library(stats4)\n",
    "library(bbmle) # Activate the package bbmle"
   ]
  },
  {
   "cell_type": "code",
   "execution_count": 2,
   "metadata": {},
   "outputs": [
    {
     "name": "stderr",
     "output_type": "stream",
     "text": [
      "Warning message in dbinom(mydata, size, prob, log = TRUE):\n",
      "“NaNs produced”Warning message in dbinom(mydata, size, prob, log = TRUE):\n",
      "“NaNs produced”Warning message in dbinom(mydata, size, prob, log = TRUE):\n",
      "“NaNs produced”Warning message in dbinom(mydata, size, prob, log = TRUE):\n",
      "“NaNs produced”Warning message in dbinom(mydata, size, prob, log = TRUE):\n",
      "“NaNs produced”"
     ]
    },
    {
     "data": {
      "text/plain": [
       "\n",
       "Call:\n",
       "mle2(minuslogl = myfunc, start = list(prob = 0.5), data = list(size = 40))\n",
       "\n",
       "Coefficients:\n",
       " prob \n",
       "0.125 \n",
       "\n",
       "Log-likelihood: -1.67 "
      ]
     },
     "metadata": {},
     "output_type": "display_data"
    }
   ],
   "source": [
    "options(digits=3) # Set the precision of the output\n",
    "size<-40\n",
    "mydata<-c(5)\n",
    "myfunc<-function(size, prob){-sum(dbinom(mydata, size, prob, log=TRUE))}\n",
    "mle2(myfunc, start=list(prob=0.5), data=list(size=40))"
   ]
  },
  {
   "cell_type": "code",
   "execution_count": null,
   "metadata": {},
   "outputs": [],
   "source": []
  }
 ],
 "metadata": {
  "kernelspec": {
   "display_name": "R",
   "language": "R",
   "name": "ir"
  },
  "language_info": {
   "codemirror_mode": "r",
   "file_extension": ".r",
   "mimetype": "text/x-r-source",
   "name": "R",
   "pygments_lexer": "r",
   "version": "3.6.1"
  }
 },
 "nbformat": 4,
 "nbformat_minor": 2
}
