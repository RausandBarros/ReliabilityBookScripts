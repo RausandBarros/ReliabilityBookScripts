{
 "cells": [
  {
   "cell_type": "markdown",
   "metadata": {},
   "source": [
    "## Survival times\n",
    "\n",
    "We denote the vector of survival times `survtime` and the status vector `status`"
   ]
  },
  {
   "cell_type": "code",
   "execution_count": 1,
   "metadata": {},
   "outputs": [],
   "source": [
    "survtime<-c(17.88, 28.92, 33.00, 41.52, 42.12, 45.60)\n",
    "status<-c(1, 0, 1, 1, 1, 0)"
   ]
  },
  {
   "cell_type": "markdown",
   "metadata": {},
   "source": [
    "## The Survival R Package\n",
    "\n",
    "The dataset is called `my.surv` and is prepared for further analysis by the function `Surv`"
   ]
  },
  {
   "cell_type": "code",
   "execution_count": 2,
   "metadata": {},
   "outputs": [],
   "source": [
    "library(survival) # Activate the package survival"
   ]
  },
  {
   "cell_type": "code",
   "execution_count": 3,
   "metadata": {},
   "outputs": [
    {
     "name": "stdout",
     "output_type": "stream",
     "text": [
      "[1] 17.88  28.92+ 33.00  41.52  42.12  45.60+\n"
     ]
    }
   ],
   "source": [
    "# Arrange and give the dataset a name\n",
    "my.surv<-Surv(survtime, status)\n",
    "# Display the dataset my.surv\n",
    "print(my.surv)"
   ]
  },
  {
   "cell_type": "code",
   "execution_count": null,
   "metadata": {},
   "outputs": [],
   "source": []
  }
 ],
 "metadata": {
  "kernelspec": {
   "display_name": "R",
   "language": "R",
   "name": "ir"
  },
  "language_info": {
   "codemirror_mode": "r",
   "file_extension": ".r",
   "mimetype": "text/x-r-source",
   "name": "R",
   "pygments_lexer": "r",
   "version": "3.6.1"
  }
 },
 "nbformat": 4,
 "nbformat_minor": 2
}
