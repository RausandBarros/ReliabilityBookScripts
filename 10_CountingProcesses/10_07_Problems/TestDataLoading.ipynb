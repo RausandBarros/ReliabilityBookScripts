{
 "cells": [
  {
   "cell_type": "code",
   "execution_count": 2,
   "metadata": {},
   "outputs": [
    {
     "data": {
      "text/html": [
       "<table>\n",
       "<thead><tr><th scope=col>Failure</th><th scope=col>Item1</th><th scope=col>Item2</th><th scope=col>Item3</th><th scope=col>Item4</th><th scope=col>Item5</th></tr></thead>\n",
       "<tbody>\n",
       "\t<tr><td> 1   </td><td> 2099</td><td> 2504</td><td> 4081</td><td> 1015</td><td>  382</td></tr>\n",
       "\t<tr><td> 2   </td><td> 5352</td><td> 3060</td><td> 5210</td><td> 3686</td><td> 1621</td></tr>\n",
       "\t<tr><td> 3   </td><td> 8116</td><td> 3626</td><td> 6722</td><td> 4535</td><td> 1629</td></tr>\n",
       "\t<tr><td> 4   </td><td> 9085</td><td> 5559</td><td>15584</td><td> 5279</td><td> 6726</td></tr>\n",
       "\t<tr><td> 5   </td><td>10581</td><td> 6691</td><td>17759</td><td> 5860</td><td> 8356</td></tr>\n",
       "\t<tr><td> 6   </td><td>12672</td><td>11848</td><td>21397</td><td> 7454</td><td>12832</td></tr>\n",
       "\t<tr><td> 7   </td><td>13042</td><td>17688</td><td>21858</td><td>12412</td><td>12910</td></tr>\n",
       "\t<tr><td> 8   </td><td>14114</td><td>18955</td><td>24192</td><td>15361</td><td>23659</td></tr>\n",
       "\t<tr><td> 9   </td><td>15310</td><td>19454</td><td>25468</td><td>15542</td><td>24169</td></tr>\n",
       "\t<tr><td>10   </td><td>15483</td><td>19590</td><td>29063</td><td>19305</td><td>24572</td></tr>\n",
       "</tbody>\n",
       "</table>\n"
      ],
      "text/latex": [
       "\\begin{tabular}{r|llllll}\n",
       " Failure & Item1 & Item2 & Item3 & Item4 & Item5\\\\\n",
       "\\hline\n",
       "\t  1    &  2099 &  2504 &  4081 &  1015 &   382\\\\\n",
       "\t  2    &  5352 &  3060 &  5210 &  3686 &  1621\\\\\n",
       "\t  3    &  8116 &  3626 &  6722 &  4535 &  1629\\\\\n",
       "\t  4    &  9085 &  5559 & 15584 &  5279 &  6726\\\\\n",
       "\t  5    & 10581 &  6691 & 17759 &  5860 &  8356\\\\\n",
       "\t  6    & 12672 & 11848 & 21397 &  7454 & 12832\\\\\n",
       "\t  7    & 13042 & 17688 & 21858 & 12412 & 12910\\\\\n",
       "\t  8    & 14114 & 18955 & 24192 & 15361 & 23659\\\\\n",
       "\t  9    & 15310 & 19454 & 25468 & 15542 & 24169\\\\\n",
       "\t 10    & 15483 & 19590 & 29063 & 19305 & 24572\\\\\n",
       "\\end{tabular}\n"
      ],
      "text/markdown": [
       "\n",
       "| Failure | Item1 | Item2 | Item3 | Item4 | Item5 |\n",
       "|---|---|---|---|---|---|\n",
       "|  1    |  2099 |  2504 |  4081 |  1015 |   382 |\n",
       "|  2    |  5352 |  3060 |  5210 |  3686 |  1621 |\n",
       "|  3    |  8116 |  3626 |  6722 |  4535 |  1629 |\n",
       "|  4    |  9085 |  5559 | 15584 |  5279 |  6726 |\n",
       "|  5    | 10581 |  6691 | 17759 |  5860 |  8356 |\n",
       "|  6    | 12672 | 11848 | 21397 |  7454 | 12832 |\n",
       "|  7    | 13042 | 17688 | 21858 | 12412 | 12910 |\n",
       "|  8    | 14114 | 18955 | 24192 | 15361 | 23659 |\n",
       "|  9    | 15310 | 19454 | 25468 | 15542 | 24169 |\n",
       "| 10    | 15483 | 19590 | 29063 | 19305 | 24572 |\n",
       "\n"
      ],
      "text/plain": [
       "   Failure Item1 Item2 Item3 Item4 Item5\n",
       "1   1       2099  2504  4081  1015   382\n",
       "2   2       5352  3060  5210  3686  1621\n",
       "3   3       8116  3626  6722  4535  1629\n",
       "4   4       9085  5559 15584  5279  6726\n",
       "5   5      10581  6691 17759  5860  8356\n",
       "6   6      12672 11848 21397  7454 12832\n",
       "7   7      13042 17688 21858 12412 12910\n",
       "8   8      14114 18955 24192 15361 23659\n",
       "9   9      15310 19454 25468 15542 24169\n",
       "10 10      15483 19590 29063 19305 24572"
      ]
     },
     "metadata": {},
     "output_type": "display_data"
    },
    {
     "data": {
      "text/html": [
       "<ol class=list-inline>\n",
       "\t<li>10</li>\n",
       "\t<li>6</li>\n",
       "</ol>\n"
      ],
      "text/latex": [
       "\\begin{enumerate*}\n",
       "\\item 10\n",
       "\\item 6\n",
       "\\end{enumerate*}\n"
      ],
      "text/markdown": [
       "1. 10\n",
       "2. 6\n",
       "\n",
       "\n"
      ],
      "text/plain": [
       "[1] 10  6"
      ]
     },
     "metadata": {},
     "output_type": "display_data"
    }
   ],
   "source": [
    "x<-read.table(\"10_07_Dataset_Problem_10_13.txt\", header=TRUE, dec=\".\", sep=\",\")\n",
    "x\n",
    "dim(x)"
   ]
  },
  {
   "cell_type": "code",
   "execution_count": null,
   "metadata": {},
   "outputs": [],
   "source": []
  }
 ],
 "metadata": {
  "kernelspec": {
   "display_name": "R",
   "language": "R",
   "name": "ir"
  },
  "language_info": {
   "codemirror_mode": "r",
   "file_extension": ".r",
   "mimetype": "text/x-r-source",
   "name": "R",
   "pygments_lexer": "r",
   "version": "3.6.1"
  }
 },
 "nbformat": 4,
 "nbformat_minor": 4
}
