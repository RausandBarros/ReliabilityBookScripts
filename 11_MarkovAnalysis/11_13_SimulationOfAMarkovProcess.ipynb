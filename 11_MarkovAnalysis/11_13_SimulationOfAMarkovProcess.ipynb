{
 "cells": [
  {
   "cell_type": "markdown",
   "metadata": {},
   "source": [
    "# 11.13 Simulation of a Markov Process\n",
    "\n",
    "In this notebook is the Python implementation of the pseudocode provided in section 11.13 (cf. figures 11.21 and 11.22). System description is provided in example 11.12 and depicted figure 11.20.\n",
    "\n",
    "### IMPORT"
   ]
  },
  {
   "cell_type": "code",
   "execution_count": 21,
   "metadata": {},
   "outputs": [],
   "source": [
    "import numpy as np\n",
    "from scipy.linalg import expm"
   ]
  },
  {
   "cell_type": "markdown",
   "metadata": {},
   "source": [
    "### Subfunction *Single history*"
   ]
  },
  {
   "cell_type": "code",
   "execution_count": 22,
   "metadata": {},
   "outputs": [],
   "source": [
    "def GetOneHistory(lambdaA, lambdaB):\n",
    "    # Time to failure initialization\n",
    "    ttf = 0\n",
    "    # Initial state\n",
    "    state = 3\n",
    "    # Change of notations\n",
    "    lambda30 = lambdaA\n",
    "    lambda32 = lambdaB\n",
    "    lambda20 = lambdaA\n",
    "    lambda21 = lambdaB\n",
    "    # Loop while any of the final states is reached\n",
    "    while (state!=1) and (state!=0):\n",
    "        # If current state is 3\n",
    "        if state==3:\n",
    "            # Draw duration until component A failure\n",
    "            t30 = np.random.exponential(scale=1/lambda30)\n",
    "            # Draw duration until component B_1 failure\n",
    "            t32 = np.random.exponential(scale=1/lambda32)\n",
    "            # If next event is component A failure\n",
    "            if t30<=t32:\n",
    "                state = 0       # Update the system state\n",
    "                ttf = ttf+t30   # Update the time to failure\n",
    "            else:\n",
    "                state = 2       # Update the system state\n",
    "                ttf = ttf+t32   # Update the time to failure\n",
    "        # If current state is 2\n",
    "        else:\n",
    "            # Draw duration until component A failure # (Exponential law's property)\n",
    "            t20 = np.random.exponential(scale=1/lambda20)\n",
    "            # Draw duration until component B2 failure\n",
    "            t21 = np.random.exponential(scale=1/lambda21)\n",
    "            # If next event is component A failure\n",
    "            if t20<=t21:\n",
    "                state = 0       # Update the system state\n",
    "                ttf = ttf+t20   # Update the time to failure\n",
    "            # If next event is component B_2 failure\n",
    "            else:\n",
    "                state = 1       # Update the system state\n",
    "                ttf = ttf+t21   # Update the time to failure\n",
    "    # return time to failure and final state\n",
    "    return (ttf, state)"
   ]
  },
  {
   "cell_type": "markdown",
   "metadata": {},
   "source": [
    "### Subfunction providing *Estimate of  MTTF and failure states probabilities*"
   ]
  },
  {
   "cell_type": "code",
   "execution_count": 23,
   "metadata": {},
   "outputs": [],
   "source": [
    "def SystemMonteCarlo(N, lambdaA, lambdaB):\n",
    "    # Initialize variables\n",
    "    mttf = 0\n",
    "    state0 = 0\n",
    "    # Loop on N histories\n",
    "    for i in range(0,N):\n",
    "        # Get outputs of a single history\n",
    "        ttf, state = GetOneHistory(lambdaA, lambdaB)\n",
    "        # Sum time to failure\n",
    "        mttf = mttf+ttf\n",
    "        if state==0:\n",
    "            # Sum histories ending on state 0\n",
    "            state0 = state0+1\n",
    "    # Estimate the system MTTF\n",
    "    mttf = mttf/N\n",
    "    # Estimate probability that system ends on state 0\n",
    "    state0 = state0/N\n",
    "    # Estimate probability that system ends on state 1\n",
    "    state1 = 1-state0\n",
    "    # return time to failure and probabilities estimation\n",
    "    return (mttf, state0, state1)"
   ]
  },
  {
   "cell_type": "markdown",
   "metadata": {},
   "source": [
    "### Computation"
   ]
  },
  {
   "cell_type": "code",
   "execution_count": 24,
   "metadata": {},
   "outputs": [
    {
     "name": "stdout",
     "output_type": "stream",
     "text": [
      "MTTF: 736103.721683\n",
      "Ending in state 0 probability: 0.742000\n",
      "Ending in state 1 probability: 0.258000\n"
     ]
    }
   ],
   "source": [
    "mttf, state0, state1 = SystemMonteCarlo(N=1000, lambdaA=1e-6, lambdaB=1e-6)\n",
    "print('MTTF: {:f}'.format(mttf))\n",
    "print('Ending in state 0 probability: {:f}'.format(state0))\n",
    "print('Ending in state 1 probability: {:f}'.format(state1))"
   ]
  },
  {
   "cell_type": "code",
   "execution_count": null,
   "metadata": {},
   "outputs": [],
   "source": []
  }
 ],
 "metadata": {
  "kernelspec": {
   "display_name": "Python 3",
   "language": "python",
   "name": "python3"
  },
  "language_info": {
   "codemirror_mode": {
    "name": "ipython",
    "version": 3
   },
   "file_extension": ".py",
   "mimetype": "text/x-python",
   "name": "python",
   "nbconvert_exporter": "python",
   "pygments_lexer": "ipython3",
   "version": "3.7.7"
  }
 },
 "nbformat": 4,
 "nbformat_minor": 4
}
