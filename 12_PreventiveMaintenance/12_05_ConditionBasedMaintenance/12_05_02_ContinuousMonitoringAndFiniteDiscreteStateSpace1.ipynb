{
 "cells": [
  {
   "cell_type": "markdown",
   "metadata": {},
   "source": [
    "# 12.5.2 Continuous monitoring and finite discrete state space\n",
    "\n",
    "Scripts for Monte Carlo simulations and numerical computations corresponding to Markov graphes on Figure 12.10 are presented. The notebook is structured as follows:\n",
    "+ Generic functions for Monte Carlo simulations and numerical computation for cases 1-5 on Figure 12.10\n",
    "+ Case 1: use of the generic functions for getting state probabilities in case 1 - No preventive maintenance\n",
    "+ Case 2: use of the generic functions for getting state probabilities in case 2 - Perfect preventive maintenance\n",
    "+ Case 3: use of the generic functions for getting state probabilities in case 3 - Unperfect preventive maintenance\n",
    "+ Case 4: use of the generic functions for getting state probabilities in case 4 - Two levels preventive maintenance\n",
    "+ Case 5: use of the generic functions for getting state probabilities in case 5 - Two steps preventive maintenance\n",
    "+ Compare cases\n",
    "    \n",
    "## Generic functions"
   ]
  },
  {
   "cell_type": "code",
   "execution_count": 1,
   "metadata": {},
   "outputs": [],
   "source": [
    "import numpy as np\n",
    "import pandas as pd\n",
    "from scipy.linalg import expm\n",
    "\n",
    "%matplotlib notebook\n",
    "import matplotlib.pyplot as plt"
   ]
  },
  {
   "cell_type": "markdown",
   "metadata": {},
   "source": [
    "### Functions for Monte Carlo simulation"
   ]
  },
  {
   "cell_type": "code",
   "execution_count": 2,
   "metadata": {},
   "outputs": [],
   "source": [
    "def RandExp(rate):\n",
    "    '''Draw random samples from an exponential distribution.\n",
    "    If rate is null, output is set to infinity.'''\n",
    "    if rate==0:\n",
    "        return np.inf\n",
    "    else:\n",
    "        return np.random.exponential(scale=1/rate)"
   ]
  },
  {
   "cell_type": "code",
   "execution_count": 3,
   "metadata": {},
   "outputs": [],
   "source": [
    "def UpdateVar(horizonTime, currentTime, currentState, dT, nextState, \n",
    "              timeState, transMatrix):\n",
    "    '''Update system state and time spent in the different states and achieved transitions.'''\n",
    "    currentTime = currentTime+dT\n",
    "    flagSim = True\n",
    "    if currentTime>=horizonTime:\n",
    "        flagSim = False\n",
    "        dT = dT-(currentTime-horizonTime)\n",
    "        currentTime = currentTime+dT\n",
    "    timeState[currentState] = timeState[currentState]+dT\n",
    "    transMatrix[currentState,nextState] = transMatrix[currentState,nextState]+1\n",
    "    currentState = nextState\n",
    "    return (flagSim, currentTime, currentState, timeState, transMatrix)"
   ]
  },
  {
   "cell_type": "code",
   "execution_count": 4,
   "metadata": {},
   "outputs": [],
   "source": [
    "def OneHistory(para):\n",
    "    '''Simulate one history of the system until simulation time horizon is reached.\n",
    "    '''\n",
    "    # Intial conditions\n",
    "    currentState = 3\n",
    "    currentTime = 0\n",
    "    flagSim = True\n",
    "    # Counters initialization\n",
    "    nState = 4\n",
    "    timeState = np.zeros(nState)\n",
    "    transMatrix = np.zeros((nState, nState))\n",
    "    while flagSim:\n",
    "        if (currentState==3):\n",
    "            # Evaluate concurrent transitions and determine the actual one\n",
    "            dT = RandExp(rate=para['lambda32'])\n",
    "            nextState = 2\n",
    "        elif (currentState==2):\n",
    "            # Evaluate concurrent transitions and determine the actual one\n",
    "            dT23 = RandExp(rate=para['mu23'])\n",
    "            dT21 = RandExp(rate=para['lambda21'])\n",
    "            dT = np.min([dT23, dT21])\n",
    "            if (dT==dT23):\n",
    "                nextState = 3\n",
    "            elif (dT==dT21):\n",
    "                nextState = 1\n",
    "            else:\n",
    "                raise ValueError('Approximation error')\n",
    "        elif (currentState==1):\n",
    "            # Evaluate concurrent transitions and determine the actual one\n",
    "            dT12 = RandExp(rate=para['mu12'])\n",
    "            dT13 = RandExp(rate=para['mu13'])\n",
    "            dT10 = RandExp(rate=para['lambda10'])\n",
    "            dT = np.min([dT12, dT13, dT10])\n",
    "            if (dT==dT12):\n",
    "                nextState = 2\n",
    "            elif (dT==dT13):\n",
    "                nextState = 3\n",
    "            elif (dT==dT10):\n",
    "                nextState = 0\n",
    "            else:\n",
    "                raise ValueError('Approximation error')\n",
    "        elif (currentState==0):\n",
    "            # Evaluate concurrent transitions and determine the actual one\n",
    "            dT = RandExp(rate=para['mu03'])\n",
    "            nextState = 3\n",
    "        else:\n",
    "            raise ValueError('Unknown state')\n",
    "        # Update variables\n",
    "        (flagSim, currentTime, currentState, timeState, transMatrix) = UpdateVar(\n",
    "            para['horizon'], currentTime, currentState, dT,  nextState, \n",
    "            timeState, transMatrix)\n",
    "    return (timeState, transMatrix)"
   ]
  },
  {
   "cell_type": "code",
   "execution_count": 5,
   "metadata": {},
   "outputs": [],
   "source": [
    "def NHistories(nbN, para):\n",
    "    '''Simulate several histories and aggregate time spent in the different states and achieved\n",
    "    transitions (Monté-carlo approach).\n",
    "    '''\n",
    "    # Simulate a first history to assess output shapes\n",
    "    (timeStateOne, transMatrixOne) = OneHistory(para)\n",
    "    timeState = np.empty((nbN, timeStateOne.shape[0]))\n",
    "    transMatrix = np.empty((nbN, transMatrixOne.shape[0], transMatrixOne.shape[1]))\n",
    "    # Main loop\n",
    "    for id in range(nbN):\n",
    "        (timeState[id,:], transMatrix[id,:,:]) = OneHistory(para)\n",
    "    return (timeState, transMatrix)"
   ]
  },
  {
   "cell_type": "markdown",
   "metadata": {},
   "source": [
    "### Functions for numerical computation"
   ]
  },
  {
   "cell_type": "code",
   "execution_count": 6,
   "metadata": {},
   "outputs": [],
   "source": [
    "def NumComp(nbSamp, para):\n",
    "    mA = np.array([\n",
    "        [np.nan, 0, 0, para['mu03']],\n",
    "        [para['lambda10'], np.nan, para['mu12'], para['mu13']],\n",
    "        [0, para['lambda21'], np.nan, para['mu23']],\n",
    "        [0, 0, para['lambda32'], np.nan]])\n",
    "    np.fill_diagonal(mA, -np.nansum(mA, axis=1))\n",
    "    vP0 = np.array([0, 0, 0, 1])\n",
    "    vPmean = np.zeros((4, ))\n",
    "    for t in np.linspace(0, para['horizon'], nbSamp):\n",
    "        vPend = vP0@expm(mA*t)\n",
    "        vPmean = vPmean+vPend\n",
    "    vPmean = vPmean/nbSamp\n",
    "    return vPmean, vPend"
   ]
  },
  {
   "cell_type": "code",
   "execution_count": 7,
   "metadata": {},
   "outputs": [],
   "source": [
    "def GetResults(case, timeState, transMatrix, probStateMean, probStateEnd):\n",
    "    '''Get and display simulations results'''\n",
    "    # Probability of each states\n",
    "    res = {'Case': case}\n",
    "    for id in range(4):\n",
    "        res['State{:d}'.format(id)] = [np.mean(timeState[:, id]/np.sum(timeState[:, :], axis=1)), \n",
    "                                       probStateMean[id], probStateEnd[id]]\n",
    "        print('State {:d} -> Probability: {:.5f} (Sim.) {:.5f} (Cal1.) {:.5f} (Cal2.)'.format(\n",
    "            id, res['State{:d}'.format(id)][0], res['State{:d}'.format(id)][1], \n",
    "            res['State{:d}'.format(id)][2], axis=1))\n",
    "    # Average simulated time\n",
    "    res['AveSimTime'] = np.mean(np.sum(timeState[:, :], axis=1))\n",
    "    print('Average simulated time (h): {:.2f}'.format(res['AveSimTime']))\n",
    "    # Average operating time\n",
    "    res['AveOpeTime'] = np.mean(np.sum(timeState[:, 1:], axis=1))\n",
    "    print('Average operating time (h): {:.2f}'.format(res['AveOpeTime']))\n",
    "    # Average repairing time\n",
    "    res['aveRepTime'] = np.mean(timeState[:, 0])\n",
    "    print('Average repairing time (h): {:.2f}'.format(res['aveRepTime']))\n",
    "    # Average number of corrective maintenance\n",
    "    res['aveCorMaint'] = np.mean(transMatrix[:, 0, 3])\n",
    "    print('Average number of corrective maintenance: {:.2f}'.format(res['aveCorMaint']))\n",
    "    # Average number of preventive maintenance\n",
    "    res['avePreMaint'] = np.mean(transMatrix[:, 1, 2])+np.mean(transMatrix[:, 1, 3]+np.mean(transMatrix[:, 2, 3])) \n",
    "    print('Average number of preventive maintenance: {:.2f}'.format(res['avePreMaint']))    \n",
    "    return res"
   ]
  },
  {
   "cell_type": "markdown",
   "metadata": {},
   "source": [
    "### CASE 1: NO PREVENTIVE MAINTENANCE"
   ]
  },
  {
   "cell_type": "code",
   "execution_count": 8,
   "metadata": {},
   "outputs": [
    {
     "name": "stdout",
     "output_type": "stream",
     "text": [
      "Case 1: No preventive maintenance\n",
      "\n",
      "State 0 -> Probability: 0.00604 (Sim.) 0.00604 (Cal1.) 0.00978 (Cal2.)\n",
      "State 1 -> Probability: 0.20549 (Sim.) 0.20501 (Cal1.) 0.32647 (Cal2.)\n",
      "State 2 -> Probability: 0.32916 (Sim.) 0.32913 (Cal1.) 0.34252 (Cal2.)\n",
      "State 3 -> Probability: 0.45932 (Sim.) 0.45982 (Cal1.) 0.32123 (Cal2.)\n",
      "Average simulated time (h): 87600.00\n",
      "Average operating time (h): 87070.92\n",
      "Average repairing time (h): 529.08\n",
      "Average number of corrective maintenance: 0.54\n",
      "Average number of preventive maintenance: 0.00\n"
     ]
    }
   ],
   "source": [
    "# Parameters\n",
    "nbHist = int(1e5)\n",
    "nbSamp = 1000\n",
    "para = {\n",
    "    'horizon' : 10*365*24, # Horizon time at 10 years, unit is hour\n",
    "    'lambda32': 3e-5,\n",
    "    'lambda21': 3e-5,\n",
    "    'lambda10': 3e-5,\n",
    "    'mu03': 1e-3,\n",
    "    'mu12': 0,\n",
    "    'mu13': 0,\n",
    "    'mu23': 0}\n",
    "# Simulation\n",
    "(timeState, transMatrix) = NHistories(nbHist, para)\n",
    "# Numerical computation\n",
    "(probStateMean, probStateEnd) = NumComp(nbSamp, para)\n",
    "# Get simulations results\n",
    "print('Case 1: No preventive maintenance\\n')\n",
    "res1 = GetResults(1, timeState, transMatrix, probStateMean, probStateEnd)"
   ]
  },
  {
   "cell_type": "markdown",
   "metadata": {},
   "source": [
    "### CASE 2: PERFECT PREVENTIVE MAINTENANCE"
   ]
  },
  {
   "cell_type": "code",
   "execution_count": 9,
   "metadata": {},
   "outputs": [
    {
     "name": "stdout",
     "output_type": "stream",
     "text": [
      "Case 2: Perfect preventive maintenance\n",
      "\n",
      "State 0 -> Probability: 0.00034 (Sim.) 0.00034 (Cal1.) 0.00043 (Cal2.)\n",
      "State 1 -> Probability: 0.01151 (Sim.) 0.01151 (Cal1.) 0.01427 (Cal2.)\n",
      "State 2 -> Probability: 0.40171 (Sim.) 0.40064 (Cal1.) 0.49025 (Cal2.)\n",
      "State 3 -> Probability: 0.58644 (Sim.) 0.58751 (Cal1.) 0.49505 (Cal2.)\n",
      "Average simulated time (h): 87600.00\n",
      "Average operating time (h): 87570.38\n",
      "Average repairing time (h): 29.62\n",
      "Average number of corrective maintenance: 0.03\n",
      "Average number of preventive maintenance: 1.02\n"
     ]
    }
   ],
   "source": [
    "# Parameters\n",
    "nbHist = int(1e5)\n",
    "nbSamp = 1000\n",
    "para = {\n",
    "    'horizon' : 10*365*24,\n",
    "    'lambda32': 3e-5,\n",
    "    'lambda21': 3e-5,\n",
    "    'lambda10': 3e-5,\n",
    "    'mu03': 1e-3,\n",
    "    'mu12': 0,\n",
    "    'mu13': 1e-3,\n",
    "    'mu23': 0}\n",
    "# Simulation\n",
    "(timeState, transMatrix) = NHistories(nbHist, para)\n",
    "# Numerical computation\n",
    "(probStateMean, probStateEnd) = NumComp(nbSamp, para)\n",
    "# Get simulations results\n",
    "print('Case 2: Perfect preventive maintenance\\n')\n",
    "res2 = GetResults(2, timeState, transMatrix, probStateMean, probStateEnd)"
   ]
  },
  {
   "cell_type": "markdown",
   "metadata": {},
   "source": [
    "### CASE 3: UNPERFECT PREVENTIVE MAINTENANCE"
   ]
  },
  {
   "cell_type": "code",
   "execution_count": 10,
   "metadata": {},
   "outputs": [
    {
     "name": "stdout",
     "output_type": "stream",
     "text": [
      "Case 3: Unperfect preventive maintenance\n",
      "\n",
      "State 0 -> Probability: 0.00053 (Sim.) 0.00052 (Cal1.) 0.00077 (Cal2.)\n",
      "State 1 -> Probability: 0.01780 (Sim.) 0.01774 (Cal1.) 0.02561 (Cal2.)\n",
      "State 2 -> Probability: 0.61867 (Sim.) 0.61875 (Cal1.) 0.88122 (Cal2.)\n",
      "State 3 -> Probability: 0.36300 (Sim.) 0.36299 (Cal1.) 0.09241 (Cal2.)\n",
      "Average simulated time (h): 87600.00\n",
      "Average operating time (h): 87553.46\n",
      "Average repairing time (h): 46.54\n",
      "Average number of corrective maintenance: 0.05\n",
      "Average number of preventive maintenance: 1.58\n"
     ]
    }
   ],
   "source": [
    "# Parameters\n",
    "nbHist = int(1e5)\n",
    "nbSamp = 1000\n",
    "para = {\n",
    "    'horizon' : 10*365*24,\n",
    "    'lambda32': 3e-5,\n",
    "    'lambda21': 3e-5,\n",
    "    'lambda10': 3e-5,\n",
    "    'mu03': 1e-3,\n",
    "    'mu12': 1e-3,\n",
    "    'mu13': 0,\n",
    "    'mu23': 0}\n",
    "# Simulation\n",
    "(timeState, transMatrix) = NHistories(nbHist, para)\n",
    "# Numerical computation\n",
    "(probStateMean, probStateEnd) = NumComp(nbSamp, para)\n",
    "# Get simulations results\n",
    "print('Case 3: Unperfect preventive maintenance\\n')\n",
    "res3 = GetResults(3, timeState, transMatrix, probStateMean, probStateEnd)"
   ]
  },
  {
   "cell_type": "markdown",
   "metadata": {},
   "source": [
    "### CASE 4: TWO LEVELS PREVENTIVE MAINTENANCE"
   ]
  },
  {
   "cell_type": "code",
   "execution_count": 11,
   "metadata": {},
   "outputs": [
    {
     "name": "stdout",
     "output_type": "stream",
     "text": [
      "Case 4: Two levels preventive maintenance\n",
      "\n",
      "State 0 -> Probability: 0.00002 (Sim.) 0.00002 (Cal1.) 0.00002 (Cal2.)\n",
      "State 1 -> Probability: 0.00076 (Sim.) 0.00081 (Cal1.) 0.00082 (Cal2.)\n",
      "State 2 -> Probability: 0.02792 (Sim.) 0.02796 (Cal1.) 0.02828 (Cal2.)\n",
      "State 3 -> Probability: 0.97130 (Sim.) 0.97121 (Cal1.) 0.97087 (Cal2.)\n",
      "Average simulated time (h): 87600.00\n",
      "Average operating time (h): 87597.84\n",
      "Average repairing time (h): 2.16\n",
      "Average number of corrective maintenance: 0.00\n",
      "Average number of preventive maintenance: 2.55\n"
     ]
    }
   ],
   "source": [
    "# Parameters\n",
    "nbHist = int(1e5)\n",
    "nbSamp = 1000\n",
    "para = {\n",
    "    'horizon' : 10*365*24,\n",
    "    'lambda32': 3e-5,\n",
    "    'lambda21': 3e-5,\n",
    "    'lambda10': 3e-5,\n",
    "    'mu03': 1e-3,\n",
    "    'mu12': 0,\n",
    "    'mu13': 1e-3,\n",
    "    'mu23': 1e-3}\n",
    "# Simulation\n",
    "(timeState, transMatrix) = NHistories(nbHist, para)\n",
    "# Numerical computation\n",
    "(probStateMean, probStateEnd) = NumComp(nbSamp, para)\n",
    "# Get simulations results\n",
    "print('Case 4: Two levels preventive maintenance\\n')\n",
    "res4 = GetResults(4, timeState, transMatrix, probStateMean, probStateEnd)"
   ]
  },
  {
   "cell_type": "markdown",
   "metadata": {},
   "source": [
    "### CASE 5: TWO STEPS PREVENTIVE MAINTENANCE"
   ]
  },
  {
   "cell_type": "code",
   "execution_count": 12,
   "metadata": {},
   "outputs": [
    {
     "name": "stdout",
     "output_type": "stream",
     "text": [
      "Case 5: Two steps preventive maintenance\n",
      "\n",
      "State 0 -> Probability: 0.00002 (Sim.) 0.00002 (Cal1.) 0.00003 (Cal2.)\n",
      "State 1 -> Probability: 0.00081 (Sim.) 0.00083 (Cal1.) 0.00085 (Cal2.)\n",
      "State 2 -> Probability: 0.02893 (Sim.) 0.02873 (Cal1.) 0.02908 (Cal2.)\n",
      "State 3 -> Probability: 0.97024 (Sim.) 0.97042 (Cal1.) 0.97005 (Cal2.)\n",
      "Average simulated time (h): 87600.00\n",
      "Average operating time (h): 87597.90\n",
      "Average repairing time (h): 2.10\n",
      "Average number of corrective maintenance: 0.00\n",
      "Average number of preventive maintenance: 2.63\n"
     ]
    }
   ],
   "source": [
    "# Parameters\n",
    "nbHist = int(1e5)\n",
    "nbSamp = 1000\n",
    "para = {\n",
    "    'horizon' : 10*365*24,\n",
    "    'lambda32': 3e-5,\n",
    "    'lambda21': 3e-5,\n",
    "    'lambda10': 3e-5,\n",
    "    'mu03': 1e-3,\n",
    "    'mu12': 1e-3,\n",
    "    'mu13': 0,\n",
    "    'mu23': 1e-3}\n",
    "# Simulation\n",
    "(timeState, transMatrix) = NHistories(nbHist, para)\n",
    "# Numerical computation\n",
    "(probStateMean, probStateEnd) = NumComp(nbSamp, para)\n",
    "# Get simulations results\n",
    "print('Case 5: Two steps preventive maintenance\\n')\n",
    "res5 = GetResults(5, timeState, transMatrix, probStateMean, probStateEnd)"
   ]
  },
  {
   "cell_type": "markdown",
   "metadata": {},
   "source": [
    "### Compare cases"
   ]
  },
  {
   "cell_type": "code",
   "execution_count": 13,
   "metadata": {},
   "outputs": [
    {
     "data": {
      "text/html": [
       "<div>\n",
       "<style scoped>\n",
       "    .dataframe tbody tr th:only-of-type {\n",
       "        vertical-align: middle;\n",
       "    }\n",
       "\n",
       "    .dataframe tbody tr th {\n",
       "        vertical-align: top;\n",
       "    }\n",
       "\n",
       "    .dataframe thead th {\n",
       "        text-align: right;\n",
       "    }\n",
       "</style>\n",
       "<table border=\"1\" class=\"dataframe\">\n",
       "  <thead>\n",
       "    <tr style=\"text-align: right;\">\n",
       "      <th></th>\n",
       "      <th>State0</th>\n",
       "      <th>State1</th>\n",
       "      <th>State2</th>\n",
       "      <th>State3</th>\n",
       "      <th>AveSimTime</th>\n",
       "      <th>AveOpeTime</th>\n",
       "      <th>aveRepTime</th>\n",
       "      <th>aveCorMaint</th>\n",
       "      <th>avePreMaint</th>\n",
       "    </tr>\n",
       "    <tr>\n",
       "      <th>Case</th>\n",
       "      <th></th>\n",
       "      <th></th>\n",
       "      <th></th>\n",
       "      <th></th>\n",
       "      <th></th>\n",
       "      <th></th>\n",
       "      <th></th>\n",
       "      <th></th>\n",
       "      <th></th>\n",
       "    </tr>\n",
       "  </thead>\n",
       "  <tbody>\n",
       "    <tr>\n",
       "      <th>1</th>\n",
       "      <td>[0.006039712610276134, 0.0060388972964482935, ...</td>\n",
       "      <td>[0.2054873414974066, 0.2050140539819091, 0.326...</td>\n",
       "      <td>[0.32915658932920167, 0.32912567490683364, 0.3...</td>\n",
       "      <td>[0.45931635656311565, 0.45982137381480903, 0.3...</td>\n",
       "      <td>87600.0</td>\n",
       "      <td>87070.921175</td>\n",
       "      <td>529.078825</td>\n",
       "      <td>0.54157</td>\n",
       "      <td>0.00000</td>\n",
       "    </tr>\n",
       "    <tr>\n",
       "      <th>2</th>\n",
       "      <td>[0.00033817350288084264, 0.0003404520751712214...</td>\n",
       "      <td>[0.011511547123887036, 0.01151114144295463, 0....</td>\n",
       "      <td>[0.4017105267305691, 0.4006420685316662, 0.490...</td>\n",
       "      <td>[0.586439752642663, 0.5875063379502088, 0.4950...</td>\n",
       "      <td>87600.0</td>\n",
       "      <td>87570.376001</td>\n",
       "      <td>29.623999</td>\n",
       "      <td>0.03021</td>\n",
       "      <td>1.02315</td>\n",
       "    </tr>\n",
       "    <tr>\n",
       "      <th>3</th>\n",
       "      <td>[0.000531268137437074, 0.0005234050035306477, ...</td>\n",
       "      <td>[0.01780044004170778, 0.017738232630370054, 0....</td>\n",
       "      <td>[0.6186696213205642, 0.6187486246358284, 0.881...</td>\n",
       "      <td>[0.3629986705002908, 0.36298973773027193, 0.09...</td>\n",
       "      <td>87600.0</td>\n",
       "      <td>87553.460911</td>\n",
       "      <td>46.539089</td>\n",
       "      <td>0.04654</td>\n",
       "      <td>1.58277</td>\n",
       "    </tr>\n",
       "    <tr>\n",
       "      <th>4</th>\n",
       "      <td>[2.4663369088958213e-05, 2.3875745718695786e-0...</td>\n",
       "      <td>[0.0007565185560011238, 0.000805250926216092, ...</td>\n",
       "      <td>[0.02791619531628275, 0.027959820612702947, 0....</td>\n",
       "      <td>[0.9713026227586272, 0.9712110527153602, 0.970...</td>\n",
       "      <td>87600.0</td>\n",
       "      <td>87597.839489</td>\n",
       "      <td>2.160511</td>\n",
       "      <td>0.00209</td>\n",
       "      <td>2.54829</td>\n",
       "    </tr>\n",
       "    <tr>\n",
       "      <th>5</th>\n",
       "      <td>[2.3926102620358284e-05, 2.4534096993997882e-0...</td>\n",
       "      <td>[0.0008130822091096309, 0.0008274611188031838,...</td>\n",
       "      <td>[0.02892637455683191, 0.028731208894933507, 0....</td>\n",
       "      <td>[0.9702366171314383, 0.9704167958892679, 0.970...</td>\n",
       "      <td>87600.0</td>\n",
       "      <td>87597.904073</td>\n",
       "      <td>2.095927</td>\n",
       "      <td>0.00191</td>\n",
       "      <td>2.62740</td>\n",
       "    </tr>\n",
       "  </tbody>\n",
       "</table>\n",
       "</div>"
      ],
      "text/plain": [
       "                                                 State0  \\\n",
       "Case                                                      \n",
       "1     [0.006039712610276134, 0.0060388972964482935, ...   \n",
       "2     [0.00033817350288084264, 0.0003404520751712214...   \n",
       "3     [0.000531268137437074, 0.0005234050035306477, ...   \n",
       "4     [2.4663369088958213e-05, 2.3875745718695786e-0...   \n",
       "5     [2.3926102620358284e-05, 2.4534096993997882e-0...   \n",
       "\n",
       "                                                 State1  \\\n",
       "Case                                                      \n",
       "1     [0.2054873414974066, 0.2050140539819091, 0.326...   \n",
       "2     [0.011511547123887036, 0.01151114144295463, 0....   \n",
       "3     [0.01780044004170778, 0.017738232630370054, 0....   \n",
       "4     [0.0007565185560011238, 0.000805250926216092, ...   \n",
       "5     [0.0008130822091096309, 0.0008274611188031838,...   \n",
       "\n",
       "                                                 State2  \\\n",
       "Case                                                      \n",
       "1     [0.32915658932920167, 0.32912567490683364, 0.3...   \n",
       "2     [0.4017105267305691, 0.4006420685316662, 0.490...   \n",
       "3     [0.6186696213205642, 0.6187486246358284, 0.881...   \n",
       "4     [0.02791619531628275, 0.027959820612702947, 0....   \n",
       "5     [0.02892637455683191, 0.028731208894933507, 0....   \n",
       "\n",
       "                                                 State3  AveSimTime  \\\n",
       "Case                                                                  \n",
       "1     [0.45931635656311565, 0.45982137381480903, 0.3...     87600.0   \n",
       "2     [0.586439752642663, 0.5875063379502088, 0.4950...     87600.0   \n",
       "3     [0.3629986705002908, 0.36298973773027193, 0.09...     87600.0   \n",
       "4     [0.9713026227586272, 0.9712110527153602, 0.970...     87600.0   \n",
       "5     [0.9702366171314383, 0.9704167958892679, 0.970...     87600.0   \n",
       "\n",
       "        AveOpeTime  aveRepTime  aveCorMaint  avePreMaint  \n",
       "Case                                                      \n",
       "1     87070.921175  529.078825      0.54157      0.00000  \n",
       "2     87570.376001   29.623999      0.03021      1.02315  \n",
       "3     87553.460911   46.539089      0.04654      1.58277  \n",
       "4     87597.839489    2.160511      0.00209      2.54829  \n",
       "5     87597.904073    2.095927      0.00191      2.62740  "
      ]
     },
     "execution_count": 13,
     "metadata": {},
     "output_type": "execute_result"
    }
   ],
   "source": [
    "df = pd.DataFrame([res1, res2, res3, res4, res5]).set_index('Case')\n",
    "df"
   ]
  },
  {
   "cell_type": "code",
   "execution_count": null,
   "metadata": {},
   "outputs": [],
   "source": []
  }
 ],
 "metadata": {
  "kernelspec": {
   "display_name": "Python 3",
   "language": "python",
   "name": "python3"
  },
  "language_info": {
   "codemirror_mode": {
    "name": "ipython",
    "version": 3
   },
   "file_extension": ".py",
   "mimetype": "text/x-python",
   "name": "python",
   "nbconvert_exporter": "python",
   "pygments_lexer": "ipython3",
   "version": "3.7.7"
  }
 },
 "nbformat": 4,
 "nbformat_minor": 4
}
