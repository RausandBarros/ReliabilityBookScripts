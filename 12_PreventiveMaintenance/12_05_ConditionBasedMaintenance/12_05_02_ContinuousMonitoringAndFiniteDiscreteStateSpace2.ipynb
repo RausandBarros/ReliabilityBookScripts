{
 "cells": [
  {
   "cell_type": "markdown",
   "metadata": {},
   "source": [
    "# 12.5.2 Continuous monitoring and finite discrete state space\n",
    "\n",
    "This notebook is dedicated to the Case 4 when $\\mu_{13}$ is not constant \n",
    "\n",
    "The notebook is structured as follows:\n",
    "+ Functions\n",
    "+ Case 4 a: rate $\\mu_{13}$ is constant (for comparison)\n",
    "+ Case 4 b: rate $\\mu_{13}$ is not constant: it depends on the time spend in state 2 according to a linear relation given in function `OneHistory`\n",
    "+ Compare cases\n",
    "\n"
   ]
  },
  {
   "cell_type": "code",
   "execution_count": 1,
   "metadata": {},
   "outputs": [],
   "source": [
    "import numpy as np\n",
    "import pandas as pd\n",
    "from scipy.interpolate import interp1d\n",
    "\n",
    "%matplotlib notebook\n",
    "import matplotlib.pyplot as plt"
   ]
  },
  {
   "cell_type": "markdown",
   "metadata": {},
   "source": [
    "### Functions"
   ]
  },
  {
   "cell_type": "code",
   "execution_count": 2,
   "metadata": {},
   "outputs": [],
   "source": [
    "def RandExp(rate):\n",
    "    '''Draw random samples from an exponential distribution.\n",
    "    If rate is null, output is set to infinity.'''\n",
    "    if rate==0:\n",
    "        return np.inf\n",
    "    else:\n",
    "        return np.random.exponential(scale=1/rate)"
   ]
  },
  {
   "cell_type": "code",
   "execution_count": 3,
   "metadata": {},
   "outputs": [],
   "source": [
    "def UpdateVar(horizonTime, currentTime, currentState, dT, nextState, \n",
    "              timeState, transMatrix):\n",
    "    '''Update system state and time spent in the different states and achieved transitions.'''\n",
    "    currentTime = currentTime+dT\n",
    "    flagSim = True\n",
    "    if currentTime>=horizonTime:\n",
    "        flagSim = False\n",
    "        dT = dT-(currentTime-horizonTime)\n",
    "        currentTime = currentTime+dT\n",
    "    timeState[currentState] = timeState[currentState]+dT\n",
    "    transMatrix[currentState,nextState] = transMatrix[currentState,nextState]+1\n",
    "    currentState = nextState\n",
    "    return (flagSim, currentTime, currentState, timeState, transMatrix)"
   ]
  },
  {
   "cell_type": "code",
   "execution_count": 4,
   "metadata": {},
   "outputs": [],
   "source": [
    "def OneHistory(para):\n",
    "    '''Simulate one history of the system until simulation time horizon is reached.\n",
    "    '''\n",
    "    # Definition of the interpolation function to determine mu3 depending on the time spent in state 2\n",
    "    fmu3 = interp1d(np.array([para['mu13']['tinf'], para['mu13']['tsup']]),\n",
    "                    np.array([para['mu13']['vinf'], para['mu13']['vsup']]),\n",
    "                    bounds_error=False, fill_value=(para['mu13']['vinf'], para['mu13']['vsup']))\n",
    "    # Intial conditions\n",
    "    currentState = 3\n",
    "    currentTime = 0\n",
    "    flagSim = True\n",
    "    # Counters initialization\n",
    "    nState = 4\n",
    "    timeState = np.zeros(nState)\n",
    "    transMatrix = np.zeros((nState, nState))\n",
    "    while flagSim:\n",
    "        if (currentState==3):\n",
    "            # Evaluate concurrent transitions and determine the actual one\n",
    "            dT = RandExp(rate=para['lambda32'])\n",
    "            nextState = 2\n",
    "        elif (currentState==2):\n",
    "            # Evaluate concurrent transitions and determine the actual one\n",
    "            dT23 = RandExp(rate=para['mu23'])\n",
    "            dT21 = RandExp(rate=para['lambda21'])\n",
    "            dT = np.min([dT23, dT21])\n",
    "            if (dT==dT23):\n",
    "                nextState = 3\n",
    "            elif (dT==dT21):\n",
    "                nextState = 1\n",
    "            else:\n",
    "                raise ValueError('Approximation error')\n",
    "        elif (currentState==1):\n",
    "            # POSSIBLY NOT CONSTANT TRANSITION RATE\n",
    "            mu13 = fmu3(dT)\n",
    "            # Evaluate concurrent transitions and determine the actual one\n",
    "            dT12 = RandExp(rate=para['mu12'])\n",
    "            dT13 = RandExp(rate=mu13)\n",
    "            dT10 = RandExp(rate=para['lambda10'])\n",
    "            dT = np.min([dT12, dT13, dT10])\n",
    "            if (dT==dT12):\n",
    "                nextState = 2\n",
    "            elif (dT==dT13):\n",
    "                nextState = 3\n",
    "            elif (dT==dT10):\n",
    "                nextState = 0\n",
    "            else:\n",
    "                raise ValueError('Approximation error')\n",
    "        elif (currentState==0):\n",
    "            # Evaluate concurrent transitions and determine the actual one\n",
    "            dT = RandExp(rate=para['mu03'])\n",
    "            nextState = 3\n",
    "        else:\n",
    "            raise ValueError('Unknown state')\n",
    "        # Update variables\n",
    "        (flagSim, currentTime, currentState, timeState, transMatrix) = UpdateVar(\n",
    "            para['horizon'], currentTime, currentState, dT,  nextState, \n",
    "            timeState, transMatrix)\n",
    "    return (timeState, transMatrix)"
   ]
  },
  {
   "cell_type": "code",
   "execution_count": 5,
   "metadata": {},
   "outputs": [],
   "source": [
    "def NHistories(nbN, para):\n",
    "    '''Simulate several histories and aggregate time spent in the different states and achieved\n",
    "    transitions (Monté-carlo approach).\n",
    "    '''\n",
    "    # Simulate a first history to assess output shapes\n",
    "    (timeStateOne, transMatrixOne) = OneHistory(para)\n",
    "    timeState = np.empty((nbN, timeStateOne.shape[0]))\n",
    "    transMatrix = np.empty((nbN, transMatrixOne.shape[0], transMatrixOne.shape[1]))\n",
    "    # Main loop\n",
    "    for id in range(nbN):\n",
    "        (timeState[id,:], transMatrix[id,:,:]) = OneHistory(para)\n",
    "    return (timeState, transMatrix)"
   ]
  },
  {
   "cell_type": "code",
   "execution_count": 6,
   "metadata": {},
   "outputs": [],
   "source": [
    "def GetResults(timeState, transMatrix, case):\n",
    "    '''Get and display simulations results'''\n",
    "    # Probability of each states\n",
    "    res = {'Case': case}\n",
    "    for id in range(4):\n",
    "        res['State{:d}'.format(id)] = np.mean(timeState[:, id]/np.sum(timeState[:, :], axis=1))\n",
    "        print('State {:d} -> Probability: {:.5f}'.format(id, res['State{:d}'.format(id)], axis=1))\n",
    "    # Average simulated time\n",
    "    res['AveSimTime'] = np.mean(np.sum(timeState[:, :], axis=1))\n",
    "    print('Average simulated time (h): {:.2f}'.format(res['AveSimTime']))\n",
    "    # Average operating time\n",
    "    res['AveOpeTime'] = np.mean(np.sum(timeState[:, 1:], axis=1))\n",
    "    print('Average operating time (h): {:.2f}'.format(res['AveOpeTime']))\n",
    "    # Average repairing time\n",
    "    res['aveRepTime'] = np.mean(timeState[:, 0])\n",
    "    print('Average repairing time (h): {:.2f}'.format(res['aveRepTime']))\n",
    "    # Average number of corrective maintenance\n",
    "    res['aveCorMaint'] = np.mean(transMatrix[:, 0, 3])\n",
    "    print('Average number of corrective maintenance: {:.2f}'.format(res['aveCorMaint']))\n",
    "    # Average number of preventive maintenance\n",
    "    res['avePreMaint'] = np.mean(transMatrix[:, 1, 2])+np.mean(transMatrix[:, 1, 3]+np.mean(transMatrix[:, 2, 3])) \n",
    "    print('Average number of preventive maintenance: {:.2f}'.format(res['avePreMaint']))    \n",
    "    return res"
   ]
  },
  {
   "cell_type": "markdown",
   "metadata": {},
   "source": [
    "### CASE 4 : TWO LEVELS PREVENTIVE MAINTENANCE (a. $\\mu_{13}$ constant)"
   ]
  },
  {
   "cell_type": "code",
   "execution_count": 7,
   "metadata": {},
   "outputs": [
    {
     "name": "stdout",
     "output_type": "stream",
     "text": [
      "Case 4: Two levels preventive maintenance\n",
      "\n",
      "State 0 -> Probability: 0.00003\n",
      "State 1 -> Probability: 0.00082\n",
      "State 2 -> Probability: 0.02803\n",
      "State 3 -> Probability: 0.97112\n",
      "Average simulated time (h): 87600.00\n",
      "Average operating time (h): 87597.60\n",
      "Average repairing time (h): 2.40\n",
      "Average number of corrective maintenance: 0.00\n",
      "Average number of preventive maintenance: 2.55\n"
     ]
    }
   ],
   "source": [
    "# Parameters\n",
    "nbHist = int(1e5)\n",
    "# By setting same values at `vinf` and `vsup`, a constant rate is forced\n",
    "para = {\n",
    "    'horizon' : 10*365*24,\n",
    "    'lambda32': 3e-5,\n",
    "    'lambda21': 3e-5,\n",
    "    'lambda10': 3e-5,\n",
    "    'mu03': 1e-3,\n",
    "    'mu12': 0,\n",
    "    'mu13': {'tinf': 100, 'vinf': 1e-3, 'tsup': 2500, 'vsup': 1e-3},\n",
    "    'mu23': 1e-3}\n",
    "# Simulation\n",
    "(timeState, transMatrix) = NHistories(nbHist, para)\n",
    "# Get simulations results\n",
    "print('Case 4: Two levels preventive maintenance\\n')\n",
    "res4a = GetResults(timeState, transMatrix, 4)"
   ]
  },
  {
   "cell_type": "code",
   "execution_count": 8,
   "metadata": {},
   "outputs": [],
   "source": [
    "### CASE 4 : TWO LEVELS PREVENTIVE MAINTENANCE (b. $\\mu_{13}$ not constant)"
   ]
  },
  {
   "cell_type": "code",
   "execution_count": 9,
   "metadata": {},
   "outputs": [
    {
     "name": "stdout",
     "output_type": "stream",
     "text": [
      "Case 4: Two levels preventive maintenance\n",
      "\n",
      "State 0 -> Probability: 0.00005\n",
      "State 1 -> Probability: 0.00151\n",
      "State 2 -> Probability: 0.02796\n",
      "State 3 -> Probability: 0.97048\n",
      "Average simulated time (h): 87600.00\n",
      "Average operating time (h): 87595.80\n",
      "Average repairing time (h): 4.20\n",
      "Average number of corrective maintenance: 0.00\n",
      "Average number of preventive maintenance: 2.54\n"
     ]
    }
   ],
   "source": [
    "# Parameters\n",
    "nbHist = int(1e5)\n",
    "para = {\n",
    "    'horizon' : 10*365*24,\n",
    "    'lambda32': 3e-5,\n",
    "    'lambda21': 3e-5,\n",
    "    'lambda10': 3e-5,\n",
    "    'mu03': 1e-3,\n",
    "    'mu12': 0,\n",
    "    'mu13': {'tinf': 100, 'vinf': 1e-5, 'tsup': 2500, 'vsup': 1e-1},\n",
    "    'mu23': 1e-3}\n",
    "# Simulation\n",
    "(timeState, transMatrix) = NHistories(nbHist, para)\n",
    "# Get simulations results\n",
    "print('Case 4: Two levels preventive maintenance\\n')\n",
    "res4b = GetResults(timeState, transMatrix, 4)"
   ]
  },
  {
   "cell_type": "code",
   "execution_count": 10,
   "metadata": {},
   "outputs": [],
   "source": [
    "### Compare cases"
   ]
  },
  {
   "cell_type": "code",
   "execution_count": 11,
   "metadata": {},
   "outputs": [
    {
     "data": {
      "text/html": [
       "<div>\n",
       "<style scoped>\n",
       "    .dataframe tbody tr th:only-of-type {\n",
       "        vertical-align: middle;\n",
       "    }\n",
       "\n",
       "    .dataframe tbody tr th {\n",
       "        vertical-align: top;\n",
       "    }\n",
       "\n",
       "    .dataframe thead th {\n",
       "        text-align: right;\n",
       "    }\n",
       "</style>\n",
       "<table border=\"1\" class=\"dataframe\">\n",
       "  <thead>\n",
       "    <tr style=\"text-align: right;\">\n",
       "      <th></th>\n",
       "      <th>State0</th>\n",
       "      <th>State1</th>\n",
       "      <th>State2</th>\n",
       "      <th>State3</th>\n",
       "      <th>AveSimTime</th>\n",
       "      <th>AveOpeTime</th>\n",
       "      <th>aveRepTime</th>\n",
       "      <th>aveCorMaint</th>\n",
       "      <th>avePreMaint</th>\n",
       "    </tr>\n",
       "    <tr>\n",
       "      <th>Case</th>\n",
       "      <th></th>\n",
       "      <th></th>\n",
       "      <th></th>\n",
       "      <th></th>\n",
       "      <th></th>\n",
       "      <th></th>\n",
       "      <th></th>\n",
       "      <th></th>\n",
       "      <th></th>\n",
       "    </tr>\n",
       "  </thead>\n",
       "  <tbody>\n",
       "    <tr>\n",
       "      <th>4</th>\n",
       "      <td>0.000027</td>\n",
       "      <td>0.000819</td>\n",
       "      <td>0.028032</td>\n",
       "      <td>0.971122</td>\n",
       "      <td>87600.0</td>\n",
       "      <td>87597.600955</td>\n",
       "      <td>2.399045</td>\n",
       "      <td>0.00236</td>\n",
       "      <td>2.54559</td>\n",
       "    </tr>\n",
       "    <tr>\n",
       "      <th>4</th>\n",
       "      <td>0.000048</td>\n",
       "      <td>0.001515</td>\n",
       "      <td>0.027962</td>\n",
       "      <td>0.970475</td>\n",
       "      <td>87600.0</td>\n",
       "      <td>87595.802581</td>\n",
       "      <td>4.197419</td>\n",
       "      <td>0.00429</td>\n",
       "      <td>2.54249</td>\n",
       "    </tr>\n",
       "  </tbody>\n",
       "</table>\n",
       "</div>"
      ],
      "text/plain": [
       "        State0    State1    State2    State3  AveSimTime    AveOpeTime  \\\n",
       "Case                                                                     \n",
       "4     0.000027  0.000819  0.028032  0.971122     87600.0  87597.600955   \n",
       "4     0.000048  0.001515  0.027962  0.970475     87600.0  87595.802581   \n",
       "\n",
       "      aveRepTime  aveCorMaint  avePreMaint  \n",
       "Case                                        \n",
       "4       2.399045      0.00236      2.54559  \n",
       "4       4.197419      0.00429      2.54249  "
      ]
     },
     "execution_count": 11,
     "metadata": {},
     "output_type": "execute_result"
    }
   ],
   "source": [
    "df = pd.DataFrame([res4a, res4b]).set_index('Case')\n",
    "df"
   ]
  },
  {
   "cell_type": "code",
   "execution_count": null,
   "metadata": {},
   "outputs": [],
   "source": []
  }
 ],
 "metadata": {
  "kernelspec": {
   "display_name": "Python 3",
   "language": "python",
   "name": "python3"
  },
  "language_info": {
   "codemirror_mode": {
    "name": "ipython",
    "version": 3
   },
   "file_extension": ".py",
   "mimetype": "text/x-python",
   "name": "python",
   "nbconvert_exporter": "python",
   "pygments_lexer": "ipython3",
   "version": "3.7.7"
  }
 },
 "nbformat": 4,
 "nbformat_minor": 4
}
