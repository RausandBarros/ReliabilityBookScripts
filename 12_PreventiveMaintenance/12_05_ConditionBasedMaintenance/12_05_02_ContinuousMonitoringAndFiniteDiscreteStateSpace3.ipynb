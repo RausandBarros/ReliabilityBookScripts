{
 "cells": [
  {
   "cell_type": "markdown",
   "metadata": {},
   "source": [
    "# 12.5.2 Continuous monitoring and finite discrete state space\n",
    "\n",
    "This notebook is dedicated to an extension of the *Case 4* where the \"item\" it taken out of operation during the maintenance. This case is depicted figure 12.11.\n",
    "\n",
    "**NOTE:** In the following, states $0^R, 1^R$ and $2^R$ are respectively labeled states 4, 5 and 6. Transition labels have been changed accordingly. Resulting notations are provided through the scheme below.\n",
    "\n",
    "![](./../../images/Schema_12_05_02.png)\n"
   ]
  },
  {
   "cell_type": "code",
   "execution_count": 1,
   "metadata": {},
   "outputs": [],
   "source": [
    "import numpy as np\n",
    "import pandas as pd\n",
    "from scipy.interpolate import interp1d\n",
    "\n",
    "%matplotlib notebook\n",
    "import matplotlib.pyplot as plt"
   ]
  },
  {
   "cell_type": "code",
   "execution_count": 2,
   "metadata": {},
   "outputs": [],
   "source": [
    "def RandExp(rate):\n",
    "    '''Draw random samples from an exponential distribution.\n",
    "    If rate is null, output is set to infinity.'''\n",
    "    if rate==0:\n",
    "        return np.inf\n",
    "    else:\n",
    "        return np.random.exponential(scale=1/rate)"
   ]
  },
  {
   "cell_type": "code",
   "execution_count": 3,
   "metadata": {},
   "outputs": [],
   "source": [
    "def UpdateVar(horizonTime, currentTime, currentState, dT, nextState, \n",
    "              timeState, transMatrix):\n",
    "    '''Update system state and time spent in the different states and achieved transitions.'''\n",
    "    currentTime = currentTime+dT\n",
    "    flagSim = True\n",
    "    if currentTime>=horizonTime:\n",
    "        flagSim = False\n",
    "        dT = dT-(currentTime-horizonTime)\n",
    "        currentTime = currentTime+dT\n",
    "    timeState[currentState] = timeState[currentState]+dT\n",
    "    transMatrix[currentState,nextState] = transMatrix[currentState,nextState]+1\n",
    "    currentState = nextState\n",
    "    return (flagSim, currentTime, currentState, timeState, transMatrix)"
   ]
  },
  {
   "cell_type": "code",
   "execution_count": 4,
   "metadata": {},
   "outputs": [],
   "source": [
    "def OneHistory(para):\n",
    "    '''Simulate one history of the system until the simulation time horizon is reached.\n",
    "    '''\n",
    "    # Intial conditions\n",
    "    currentState = 3\n",
    "    currentTime = 0\n",
    "    flagSim = True\n",
    "    # Counters initialization\n",
    "    nState = 7\n",
    "    timeState = np.zeros(nState)\n",
    "    transMatrix = np.zeros((nState, nState))\n",
    "    while flagSim:\n",
    "        if (currentState==6):\n",
    "            dT = RandExp(rate=para['r63'])\n",
    "            nextState = 3\n",
    "        elif (currentState==5):\n",
    "            dT = RandExp(rate=para['r53'])\n",
    "            nextState = 3        \n",
    "        elif (currentState==4):\n",
    "            dT = RandExp(rate=para['r43'])\n",
    "            nextState = 3                    \n",
    "        elif (currentState==3):\n",
    "            dT = RandExp(rate=para['lambda32'])\n",
    "            nextState = 2\n",
    "        elif (currentState==2):\n",
    "            dT26 = para['d26']\n",
    "            dT21 = RandExp(rate=para['lambda21'])\n",
    "            dT = np.min([dT26, dT21])\n",
    "            if (dT==dT26):\n",
    "                nextState = 6\n",
    "            elif (dT==dT21):\n",
    "                nextState = 1\n",
    "            else:\n",
    "                raise ValueError('Approximation error')\n",
    "        elif (currentState==1):\n",
    "            dT15 = para['d15']\n",
    "            dT10 = RandExp(rate=para['lambda10'])\n",
    "            dT = np.min([dT15, dT10])\n",
    "            if (dT==dT15):\n",
    "                nextState = 5\n",
    "            elif (dT==dT10):\n",
    "                nextState = 0\n",
    "            else:\n",
    "                raise ValueError('Approximation error')\n",
    "        elif (currentState==0):\n",
    "            dT = para['d04']\n",
    "            nextState = 4\n",
    "        else:\n",
    "            raise ValueError('Unknown state')\n",
    "        # Update variables\n",
    "        (flagSim, currentTime, currentState, timeState, transMatrix) = UpdateVar(\n",
    "            para['horizon'], currentTime, currentState, dT, nextState, timeState, transMatrix)\n",
    "    return (timeState, transMatrix)            "
   ]
  },
  {
   "cell_type": "code",
   "execution_count": 5,
   "metadata": {},
   "outputs": [],
   "source": [
    "def NHistories(nbN, para):\n",
    "    '''Simulate several histories and aggregate time spent in the different states and achieved\n",
    "    transitions (Monté-carlo approach).\n",
    "    '''\n",
    "    # Simulate a first history to assess output shapes\n",
    "    (timeStateOne, transMatrixOne) = OneHistory(para)\n",
    "    timeState = np.empty((nbN, timeStateOne.shape[0]))\n",
    "    transMatrix = np.empty((nbN, transMatrixOne.shape[0], transMatrixOne.shape[1]))\n",
    "    # Main loop\n",
    "    for id in range(nbN):\n",
    "        (timeState[id,:], transMatrix[id,:,:]) = OneHistory(para)\n",
    "    return (timeState, transMatrix)"
   ]
  },
  {
   "cell_type": "code",
   "execution_count": 6,
   "metadata": {},
   "outputs": [],
   "source": [
    "# Parmeters\n",
    "nbHist = int(1e5)\n",
    "para = {\n",
    "    'horizon': 10*365*24,\n",
    "    'lambda32': 5e-3,\n",
    "    'lambda21': 2e-3,\n",
    "    'lambda10': 1e-3,\n",
    "    'd26': 168,  \n",
    "    'd15': 336,\n",
    "    'd04': 504,\n",
    "    'r63': 1e-3,\n",
    "    'r53': 1e-3,\n",
    "    'r43': 1e-4}\n",
    "# Simulation\n",
    "(timeState, transMatrix) = NHistories(nbHist, para)\n",
    "# Get simulations results"
   ]
  },
  {
   "cell_type": "code",
   "execution_count": 7,
   "metadata": {},
   "outputs": [
    {
     "name": "stdout",
     "output_type": "stream",
     "text": [
      "State 0 -> Probability: 0.01951\n",
      "State 1 -> Probability: 0.03884\n",
      "State 2 -> Probability: 0.06828\n",
      "State 3 -> Probability: 0.09570\n",
      "State 4 -> Probability: 0.34357\n",
      "State 5 -> Probability: 0.09595\n",
      "State 6 -> Probability: 0.33815\n",
      "Average simulated time (h): 87600.00\n",
      "Average operating time (h): 17766.83\n",
      "Average repairing time (h): 68124.50\n",
      "Average down time (h): 69833.17\n",
      "Average number of corrective maintenance: 3.38\n",
      "Average number of preventive maintenance: 38.44\n"
     ]
    }
   ],
   "source": [
    "# Probability of each states\n",
    "res = {}\n",
    "for id in range(7):\n",
    "    res['State{:d}'.format(id)] = np.mean(timeState[:, id]/np.sum(timeState[:, :], axis=1))\n",
    "    print('State {:d} -> Probability: {:.5f}'.format(id, res['State{:d}'.format(id)], axis=1))\n",
    "# Average simulated time\n",
    "res['AveSimTime'] = np.mean(np.sum(timeState[:, :], axis=1))\n",
    "print('Average simulated time (h): {:.2f}'.format(res['AveSimTime']))\n",
    "# Average operating time\n",
    "res['AveOpeTime'] = np.mean(np.sum(timeState[:, [1, 2, 3]], axis=1))\n",
    "print('Average operating time (h): {:.2f}'.format(res['AveOpeTime']))\n",
    "# Average repairing time\n",
    "res['aveRepTime'] = np.mean(np.sum(timeState[:, [4, 5, 6]], axis=1))\n",
    "print('Average repairing time (h): {:.2f}'.format(res['aveRepTime']))\n",
    "# Average down time\n",
    "res['aveDownTime'] = np.mean(np.sum(timeState[:, [0, 4, 5, 6]], axis=1))\n",
    "print('Average down time (h): {:.2f}'.format(res['aveDownTime']))\n",
    "# Average number of corrective maintenance\n",
    "res['aveCorMaint'] = np.mean(transMatrix[:, 4, 3])\n",
    "print('Average number of corrective maintenance: {:.2f}'.format(res['aveCorMaint']))\n",
    "# Average number of preventive maintenance\n",
    "res['avePreMaint'] = np.mean(transMatrix[:, 6, 3])+np.mean(transMatrix[:, 5, 3]) \n",
    "print('Average number of preventive maintenance: {:.2f}'.format(res['avePreMaint']))"
   ]
  },
  {
   "cell_type": "code",
   "execution_count": null,
   "metadata": {},
   "outputs": [],
   "source": []
  }
 ],
 "metadata": {
  "kernelspec": {
   "display_name": "Python 3",
   "language": "python",
   "name": "python3"
  },
  "language_info": {
   "codemirror_mode": {
    "name": "ipython",
    "version": 3
   },
   "file_extension": ".py",
   "mimetype": "text/x-python",
   "name": "python",
   "nbconvert_exporter": "python",
   "pygments_lexer": "ipython3",
   "version": "3.7.7"
  }
 },
 "nbformat": 4,
 "nbformat_minor": 4
}
